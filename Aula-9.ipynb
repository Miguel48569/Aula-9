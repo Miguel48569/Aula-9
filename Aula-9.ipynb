{
 "cells": [
  {
   "cell_type": "code",
   "execution_count": 2,
   "metadata": {},
   "outputs": [],
   "source": [
    "for produto in range (0, 4):\n",
    "    p= str(input('digite o nome do produto:'))\n",
    "    v= float(input('digite o valor do produto:'))\n",
    "\n",
    "    #estruturação de repetição\n",
    "    #for:\n",
    "    #  print()"
   ]
  },
  {
   "cell_type": "code",
   "execution_count": 3,
   "metadata": {},
   "outputs": [
    {
     "name": "stdout",
     "output_type": "stream",
     "text": [
      "estamos no elemento 1\n",
      "estamos no elemento 2\n",
      "estamos no elemento 3\n",
      "estamos no elemento 4\n",
      "estamos no elemento 5\n",
      "estamos no elemento 6\n"
     ]
    }
   ],
   "source": [
    "for elemento in [1,2,3,4,5,6]:\n",
    "    print ('estamos no elemento', elemento)"
   ]
  },
  {
   "cell_type": "code",
   "execution_count": 4,
   "metadata": {},
   "outputs": [],
   "source": [
    "produto= 0   #inicialização\n",
    "while produto < 4:   #condição\n",
    "    p = str(input('digite o nome do produto:'))  #corpo do loop\n",
    "    v= float(input('digite o valor do produto:'))  #corpo do loop\n",
    "    produto += 1 #incremento"
   ]
  },
  {
   "cell_type": "code",
   "execution_count": 9,
   "metadata": {},
   "outputs": [
    {
     "name": "stdout",
     "output_type": "stream",
     "text": [
      "estamos no elemento 0\n",
      "estamos no elemento 1\n",
      "estamos no elemento 2\n",
      "estamos no elemento 3\n",
      "estamos no elemento 4\n",
      "estamos no elemento 5\n",
      "estamos no elemento 6\n"
     ]
    }
   ],
   "source": [
    "#Estrutura de Repetição- While\n",
    "\n",
    "elemento = 0\n",
    "while elemento <= len ([1,2,3,4,5,6]):\n",
    "    print('estamos no elemento', elemento)\n",
    "    elemento +=1\n",
    "    #Zeros infinitos(loop infinito) se não colocar o 'incremento elemento += 1'"
   ]
  },
  {
   "cell_type": "code",
   "execution_count": 10,
   "metadata": {},
   "outputs": [
    {
     "name": "stdout",
     "output_type": "stream",
     "text": [
      "estamos no elemento s\n",
      "estamos no elemento t\n",
      "estamos no elemento r\n",
      "estamos no elemento i\n",
      "estamos no elemento n\n",
      "estamos no elemento g\n"
     ]
    }
   ],
   "source": [
    "s= 'string'\n",
    "indice= 0  #contador\n",
    "\n",
    "while indice in range (len(s)):    #quando eu não sei o quanto aquilo vai se repetir(while)\n",
    "    print('estamos no elemento', s[indice])   #recurso para acessar lista\n",
    "    indice += 1  #incremento\n"
   ]
  },
  {
   "cell_type": "code",
   "execution_count": 11,
   "metadata": {},
   "outputs": [
    {
     "name": "stdout",
     "output_type": "stream",
     "text": [
      "0 t\n",
      "1 r\n",
      "2 a\n",
      "3 n\n",
      "4 q\n",
      "5 u\n",
      "6 i\n",
      "7 l\n",
      "8 o\n"
     ]
    }
   ],
   "source": [
    "#Função enumerate() tem Indice e valor\n",
    "\n",
    "palavra='tranquilo'\n",
    "for indice, letra in enumerate(palavra):\n",
    "    print(indice, letra)"
   ]
  },
  {
   "cell_type": "code",
   "execution_count": 14,
   "metadata": {},
   "outputs": [
    {
     "name": "stdout",
     "output_type": "stream",
     "text": [
      "oi\n",
      "oi\n",
      "oi\n",
      "oi\n",
      "oi\n",
      "oi\n",
      "oi\n",
      "oi\n",
      "oi\n",
      "oi\n",
      "oi\n",
      "oi\n",
      "oi\n"
     ]
    }
   ],
   "source": [
    "#Quiz\n",
    "\n",
    "s = 'viva o python'\n",
    "for ch in s:\n",
    "    print('oi')"
   ]
  },
  {
   "cell_type": "code",
   "execution_count": 15,
   "metadata": {},
   "outputs": [
    {
     "name": "stdout",
     "output_type": "stream",
     "text": [
      "oi\n",
      "oi\n",
      "oi\n",
      "oi\n",
      "oi\n"
     ]
    }
   ],
   "source": [
    "s='viva o python'\n",
    "for ch in s[3:8]:\n",
    "    print('oi')"
   ]
  },
  {
   "cell_type": "code",
   "execution_count": null,
   "metadata": {},
   "outputs": [],
   "source": [
    "#desafio faça um programa que peça 10 números inteiros, clcule e mostre a quntidade de numeros pares e impares"
   ]
  },
  {
   "cell_type": "code",
   "execution_count": 16,
   "metadata": {},
   "outputs": [
    {
     "name": "stdout",
     "output_type": "stream",
     "text": [
      "0\n",
      "1\n",
      "2\n",
      "3\n",
      "4\n",
      "5\n",
      "6\n",
      "7\n",
      "8\n",
      "9\n",
      "10\n"
     ]
    }
   ],
   "source": [
    "elemento = 0\n",
    "while elemento <= len ([1,2,3,4,5,6,7,8,9,10]):\n",
    "    print(elemento)\n",
    "    elemento +=1"
   ]
  },
  {
   "cell_type": "code",
   "execution_count": 26,
   "metadata": {},
   "outputs": [
    {
     "name": "stdout",
     "output_type": "stream",
     "text": [
      "5.0\n"
     ]
    }
   ],
   "source": [
    "for produto in range (0, 4):\n",
    "    p= str(input('digite o nome do produto:'))\n",
    "    v= float(input('digite o valor do produto:'))\n",
    "\n",
    "\n"
   ]
  },
  {
   "cell_type": "code",
   "execution_count": 31,
   "metadata": {},
   "outputs": [
    {
     "name": "stdout",
     "output_type": "stream",
     "text": [
      "a quantidade de numeros pares é: 0\n",
      "a quantidade de numeros ímpares é: 1\n",
      "a quantidade de numeros pares é: 1\n",
      "a quantidade de numeros ímpares é: 2\n",
      "a quantidade de numeros pares é: 1\n",
      "a quantidade de numeros ímpares é: 3\n",
      "a quantidade de numeros pares é: 2\n",
      "a quantidade de numeros ímpares é: 4\n",
      "a quantidade de numeros pares é: 3\n",
      "a quantidade de numeros ímpares é: 5\n"
     ]
    }
   ],
   "source": [
    "impar=0\n",
    "par=0\n",
    "for num in range (10):\n",
    " numero_inteiro= int(input('escreva os 10 numeros inteiros'))\n",
    " if numero_inteiro%2==0:\n",
    "  par+=1\n",
    " else:\n",
    "  impar+=1\n",
    "  print('a quantidade de numeros pares é:',par)\n",
    "  print('a quantidade de numeros ímpares é:',impar)"
   ]
  }
 ],
 "metadata": {
  "kernelspec": {
   "display_name": "Python 3",
   "language": "python",
   "name": "python3"
  },
  "language_info": {
   "codemirror_mode": {
    "name": "ipython",
    "version": 3
   },
   "file_extension": ".py",
   "mimetype": "text/x-python",
   "name": "python",
   "nbconvert_exporter": "python",
   "pygments_lexer": "ipython3",
   "version": "3.12.3"
  }
 },
 "nbformat": 4,
 "nbformat_minor": 2
}
